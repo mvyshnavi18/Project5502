{
  "nbformat": 4,
  "nbformat_minor": 0,
  "metadata": {
    "colab": {
      "provenance": []
    },
    "kernelspec": {
      "name": "python3",
      "display_name": "Python 3"
    },
    "language_info": {
      "name": "python"
    }
  },
  "cells": [
    {
      "cell_type": "markdown",
      "source": [
        "# Part 5 - Data Modeling"
      ],
      "metadata": {
        "id": "lJQ7-Uvaj-eB"
      }
    },
    {
      "cell_type": "markdown",
      "source": [
        "## Get Data"
      ],
      "metadata": {
        "id": "mwrKAvxG5htS"
      }
    },
    {
      "cell_type": "code",
      "source": [
        "# seed\n",
        "import random\n",
        "\n",
        "seed_id = 123456789\n",
        "random_state = random.seed(seed_id)\n",
        "random_state"
      ],
      "metadata": {
        "id": "a-m0xVOf5_JW"
      },
      "execution_count": null,
      "outputs": []
    },
    {
      "cell_type": "code",
      "source": [
        "import shutil\n",
        "\n",
        "# Source file path (within your Drive)\n",
        "source_file = '/content/drive/MyDrive/Colab Notebooks/train_test_split.pkl'\n",
        "\n",
        "# Destination path (root of your Drive)\n",
        "destination_path = 'train_test_split.pkl'\n",
        "\n",
        "# Copy the file\n",
        "shutil.copy(source_file, destination_path)"
      ],
      "metadata": {
        "colab": {
          "base_uri": "https://localhost:8080/",
          "height": 36
        },
        "id": "9D49mVdvCf6k",
        "outputId": "4d9edff5-9a13-4953-e93e-1894e282f0c8"
      },
      "execution_count": null,
      "outputs": [
        {
          "output_type": "execute_result",
          "data": {
            "text/plain": [
              "'train_test_split.pkl'"
            ],
            "application/vnd.google.colaboratory.intrinsic+json": {
              "type": "string"
            }
          },
          "metadata": {},
          "execution_count": 2
        }
      ]
    },
    {
      "cell_type": "code",
      "source": [
        "import pickle\n",
        "\n",
        "# Load the data\n",
        "with open('.../train_test_split.pkl', 'rb') as f:\n",
        "    X_train, X_test, y_train, y_test = pickle.load(f)"
      ],
      "metadata": {
        "id": "VzQgQwDe5j-c"
      },
      "execution_count": null,
      "outputs": []
    },
    {
      "cell_type": "markdown",
      "source": [
        "## Logistic Regression"
      ],
      "metadata": {
        "id": "JzLn_P9TsL8D"
      }
    },
    {
      "cell_type": "code",
      "source": [
        "# model, predict, evaluate, and plot\n",
        "from sklearn.linear_model import LogisticRegression\n",
        "from sklearn.metrics import confusion_matrix, accuracy_score\n",
        "\n",
        "model = LogisticRegression(solver='liblinear', random_state=random_state)\n",
        "model.fit(X_train, y_train)\n",
        "predictions = model.predict(X_test)\n",
        "\n",
        "print(confusion_matrix(y_test, predictions))\n",
        "print(accuracy_score(y_test, predictions))"
      ],
      "metadata": {
        "colab": {
          "base_uri": "https://localhost:8080/"
        },
        "id": "4dtvvMWZsOVs",
        "outputId": "e2f7423f-c4e0-4332-d3ea-48439932acda"
      },
      "execution_count": null,
      "outputs": [
        {
          "output_type": "stream",
          "name": "stdout",
          "text": [
            "[[124  24]\n",
            " [ 26 126]]\n",
            "0.8333333333333334\n"
          ]
        }
      ]
    },
    {
      "cell_type": "markdown",
      "source": [
        "## Random Forest"
      ],
      "metadata": {
        "id": "vfP5Ltl4tbkz"
      }
    },
    {
      "cell_type": "code",
      "source": [
        "from sklearn.ensemble import RandomForestClassifier\n",
        "\n",
        "model = RandomForestClassifier(n_estimators=100, criterion='entropy', random_state=random_state)\n",
        "model.fit(X_train, y_train)\n",
        "predictions = model.predict(X_test)\n",
        "\n",
        "print(confusion_matrix(y_test, predictions))\n",
        "print(accuracy_score(y_test, predictions))"
      ],
      "metadata": {
        "colab": {
          "base_uri": "https://localhost:8080/"
        },
        "id": "apRIPeEetesw",
        "outputId": "d9d4a07c-c850-4058-893e-1000b70c9b94"
      },
      "execution_count": null,
      "outputs": [
        {
          "output_type": "stream",
          "name": "stdout",
          "text": [
            "[[137  11]\n",
            " [ 16 136]]\n",
            "0.91\n"
          ]
        }
      ]
    },
    {
      "cell_type": "markdown",
      "source": [
        "## Model Evaluation"
      ],
      "metadata": {
        "id": "P3s_9zNAkBvi"
      }
    },
    {
      "cell_type": "code",
      "source": [
        "from sklearn.metrics import accuracy_score, confusion_matrix, classification_report\n",
        "\n",
        "tn, fp, fn, tp = confusion_matrix(y_test, predictions).ravel()\n",
        "print('accuracy:', accuracy_score(predictions, y_test))\n",
        "print(confusion_matrix(y_test, predictions))\n",
        "print(classification_report(y_test, predictions))"
      ],
      "metadata": {
        "colab": {
          "base_uri": "https://localhost:8080/"
        },
        "id": "u2_ZmOlSu3v_",
        "outputId": "93bca801-44e6-474f-d767-1db5bc11a136"
      },
      "execution_count": null,
      "outputs": [
        {
          "output_type": "stream",
          "name": "stdout",
          "text": [
            "accuracy: 0.91\n",
            "[[137  11]\n",
            " [ 16 136]]\n",
            "              precision    recall  f1-score   support\n",
            "\n",
            "         0.0       0.90      0.93      0.91       148\n",
            "         1.0       0.93      0.89      0.91       152\n",
            "\n",
            "    accuracy                           0.91       300\n",
            "   macro avg       0.91      0.91      0.91       300\n",
            "weighted avg       0.91      0.91      0.91       300\n",
            "\n"
          ]
        }
      ]
    },
    {
      "cell_type": "markdown",
      "source": [
        "## Model Fine-Tuning"
      ],
      "metadata": {
        "id": "0z3ILWx2kEQW"
      }
    },
    {
      "cell_type": "code",
      "source": [
        "from sklearn.ensemble import RandomForestClassifier\n",
        "from sklearn.model_selection import GridSearchCV\n",
        "\n",
        "hyperparameters = {'max_depth': [2, 3],\n",
        "              'min_samples_split': [4, 5],\n",
        "              'min_samples_leaf': [4, 5],\n",
        "              'bootstrap': [True, False],\n",
        "              'criterion': ['entropy', 'gini']}\n",
        "\n",
        "grid_search = GridSearchCV(estimator = RandomForestClassifier(),\n",
        "                           param_grid = hyperparameters,\n",
        "                           scoring = 'accuracy',\n",
        "                           cv = 10)\n",
        "\n",
        "grid_search = grid_search.fit(X_train, y_train)\n",
        "\n",
        "best_accuracy = grid_search.best_score_\n",
        "best_parameters = grid_search.best_params_\n",
        "\n",
        "print('best accuracy', best_accuracy)\n",
        "print('best parameters', best_parameters)"
      ],
      "metadata": {
        "colab": {
          "base_uri": "https://localhost:8080/"
        },
        "id": "id7SGg6wuOyR",
        "outputId": "1e140fe1-294b-4ac0-dbc3-6c7e38aa6564"
      },
      "execution_count": null,
      "outputs": [
        {
          "output_type": "stream",
          "name": "stdout",
          "text": [
            "best accuracy 0.8928571428571429\n",
            "best parameters {'bootstrap': True, 'criterion': 'gini', 'max_depth': 3, 'min_samples_leaf': 5, 'min_samples_split': 4}\n"
          ]
        },
        {
          "output_type": "stream",
          "name": "stderr",
          "text": [
            "/usr/local/lib/python3.10/dist-packages/numpy/ma/core.py:2820: RuntimeWarning: invalid value encountered in cast\n",
            "  _data = np.array(data, dtype=dtype, copy=copy,\n"
          ]
        }
      ]
    },
    {
      "cell_type": "markdown",
      "source": [
        "## Final Model"
      ],
      "metadata": {
        "id": "VssRecfXvNDu"
      }
    },
    {
      "cell_type": "code",
      "source": [
        "from sklearn.ensemble import RandomForestClassifier\n",
        "from sklearn.metrics import accuracy_score, confusion_matrix, classification_report\n",
        "\n",
        "model = RandomForestClassifier(random_state=random_state).set_params(**best_parameters) # * args, ** kwargs\n",
        "model.fit(X_train.values, y_train)\n",
        "predictions = model.predict(X_test.values)\n",
        "print('accuracy:', accuracy_score(predictions, y_test))"
      ],
      "metadata": {
        "colab": {
          "base_uri": "https://localhost:8080/"
        },
        "id": "F65mh3dkvQTe",
        "outputId": "46973c0f-dfbd-4b56-b178-dc11456462cf"
      },
      "execution_count": null,
      "outputs": [
        {
          "output_type": "stream",
          "name": "stdout",
          "text": [
            "accuracy: 0.8766666666666667\n"
          ]
        }
      ]
    },
    {
      "cell_type": "markdown",
      "source": [
        "## Confusion Matrix"
      ],
      "metadata": {
        "id": "YMQq51GE5XJb"
      }
    },
    {
      "cell_type": "code",
      "source": [
        "print(confusion_matrix(y_test, predictions))"
      ],
      "metadata": {
        "colab": {
          "base_uri": "https://localhost:8080/"
        },
        "id": "kUSZa-4N5cgu",
        "outputId": "e3e4b1ff-f6c4-4a3a-e912-fef2e07c16f2"
      },
      "execution_count": null,
      "outputs": [
        {
          "output_type": "stream",
          "name": "stdout",
          "text": [
            "[[130  18]\n",
            " [ 19 133]]\n"
          ]
        }
      ]
    },
    {
      "cell_type": "markdown",
      "source": [
        "## Precision Recall"
      ],
      "metadata": {
        "id": "uaRRL0lf5Zv0"
      }
    },
    {
      "cell_type": "code",
      "source": [
        "print(classification_report(y_test, predictions))"
      ],
      "metadata": {
        "colab": {
          "base_uri": "https://localhost:8080/"
        },
        "id": "bqdrP2BE5dEE",
        "outputId": "9cf2da6e-975d-45b2-d936-68ad2fd32b3c"
      },
      "execution_count": null,
      "outputs": [
        {
          "output_type": "stream",
          "name": "stdout",
          "text": [
            "              precision    recall  f1-score   support\n",
            "\n",
            "         0.0       0.87      0.88      0.88       148\n",
            "         1.0       0.88      0.88      0.88       152\n",
            "\n",
            "    accuracy                           0.88       300\n",
            "   macro avg       0.88      0.88      0.88       300\n",
            "weighted avg       0.88      0.88      0.88       300\n",
            "\n"
          ]
        }
      ]
    },
    {
      "cell_type": "markdown",
      "source": [
        "## Bias Variance"
      ],
      "metadata": {
        "id": "Xa9kbxryvx4d"
      }
    },
    {
      "source": [
        "from mlxtend.evaluate import bias_variance_decomp\n",
        "\n",
        "avg_expected_loss, avg_bias, avg_var = bias_variance_decomp(\n",
        "    model,\n",
        "    X_train.values, # Convert X_train to NumPy array\n",
        "    y_train.values, # Convert y_train to NumPy array\n",
        "    X_test.values, # Convert X_test to NumPy array\n",
        "    y_test.values, # Convert y_test to NumPy array\n",
        "    loss='0-1_loss',\n",
        "    random_seed=random_state)\n",
        "\n",
        "print('Average expected loss: %.3f' % avg_expected_loss)\n",
        "print('Average bias: %.3f' % avg_bias)\n",
        "print('Average variance: %.3f' % avg_var)\n",
        "\n",
        "# Average expected loss: 0.087\n",
        "# Average bias: 0.080\n",
        "# Average variance: 0.034"
      ],
      "cell_type": "code",
      "metadata": {
        "colab": {
          "base_uri": "https://localhost:8080/"
        },
        "id": "QXvTKg1egT9I",
        "outputId": "206a5953-63cd-4f72-ae19-04c477fd9c1b"
      },
      "execution_count": null,
      "outputs": [
        {
          "output_type": "stream",
          "name": "stdout",
          "text": [
            "Average expected loss: 0.136\n",
            "Average bias: 0.123\n",
            "Average variance: 0.027\n"
          ]
        }
      ]
    }
  ]
}